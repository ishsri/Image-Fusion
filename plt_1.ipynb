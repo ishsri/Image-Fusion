{
 "cells": [
  {
   "cell_type": "code",
   "execution_count": 1,
   "metadata": {},
   "outputs": [],
   "source": [
    "from cProfile import label\n",
    "import torch\n",
    "import numpy as np\n",
    "import matplotlib.pyplot as plt"
   ]
  },
  {
   "cell_type": "code",
   "execution_count": 2,
   "metadata": {},
   "outputs": [],
   "source": [
    "checkpoint_fusion = torch.load(r'C:\\Users\\ishan\\Desktop\\Image Fusion\\Fusion_R1\\encode-decode\\lr = 0.001\\model_0.25.pt')"
   ]
  },
  {
   "cell_type": "code",
   "execution_count": 4,
   "metadata": {},
   "outputs": [],
   "source": [
    "loss_ssim_train_t1ce = checkpoint_fusion['avg. training_loss_ssim_t1ce']\n",
    "loss_ssim_train_flair = checkpoint_fusion['avg. training_loss_ssim_flair']\n",
    "loss_l2_train_t1ce = checkpoint_fusion['training_loss_l2_t1ce']\n",
    "loss_l2_train_flair = checkpoint_fusion['training_loss_l2_flair']\n",
    "loss_ssim_val_t1ce = checkpoint_fusion['avg. validation_loss_ssim_t1ce']\n",
    "loss_ssim_val_flair = checkpoint_fusion['avg. validation_loss_ssim_flair']\n",
    "loss_l2_val_t1ce = checkpoint_fusion['validation_loss_l2_t1ce']\n",
    "loss_l2_val_flair = checkpoint_fusion['validation_loss_l2_flair']\n",
    "\n",
    "ssim_t1ce_train = checkpoint_fusion['ssim loss train t1ce']\n",
    "ssim_flair_train = checkpoint_fusion['ssim loss train flair']\n",
    "ssim_t1ce_val = checkpoint_fusion['ssim loss val t1ce']\n",
    "ssim_flair_val = checkpoint_fusion['ssim loss val flair']\n",
    "\n",
    "ssim_t1ce_train = np.asarray(ssim_t1ce_train).flatten()\n",
    "ssim_flair_train = np.asarray(ssim_flair_train).flatten()\n",
    "ssim_t1ce_val = np.asarray(ssim_t1ce_val).flatten()\n",
    "ssim_flair_val =np.asarray(ssim_flair_val).flatten()\n",
    "\n",
    "\n",
    "loss_ssim_train_t1ce = np.asarray(loss_ssim_train_t1ce).flatten()\n",
    "loss_ssim_train_flair = np.asarray(loss_ssim_train_flair).flatten()\n",
    "loss_l2_train_t1ce = np.asarray(loss_l2_train_t1ce).flatten()\n",
    "loss_l2_train_flair = np.asarray(loss_l2_train_flair).flatten()\n",
    "loss_ssim_val_t1ce = np.asarray(loss_ssim_val_t1ce).flatten()\n",
    "loss_ssim_val_flair = np.asarray(loss_ssim_val_flair).flatten()\n",
    "loss_l2_val_t1ce = np.asarray(loss_l2_val_t1ce).flatten()\n",
    "loss_l2_val_flair = np.asarray(loss_l2_val_flair).flatten()"
   ]
  },
  {
   "cell_type": "code",
   "execution_count": 8,
   "metadata": {},
   "outputs": [
    {
     "name": "stderr",
     "output_type": "stream",
     "text": [
      "No handles with labels found to put in legend.\n"
     ]
    }
   ],
   "source": [
    "#plt.plot(loss_ssim_train_t1ce[0:10000],'b', label = 'ssim train_t1ce')\n",
    "#plt.plot(loss_ssim_val_t1ce,'g', label = 'ssim val_t1ce')\n",
    "#plt.plot(loss_l2_train_t1ce,'r', label = 'l2_train_t1ce')\n",
    "#plt.plot(loss_l2_val_t1ce,'c', label = 'l2_val_t1ce')\n",
    "#plt.plot(loss_ssim_train_flair[0:10000],'g', label = 'ssim train_flair')\n",
    "#plt.plot(loss_ssim_val_flair,'g', label = 'ssim val_flair')\n",
    "# plt.plot(loss_l2_train_flair,'r', label = 'l2_train_flair')\n",
    "# plt.plot(loss_l2_val_flair,'c', label = 'l2_val_flair')\n",
    "plt.plot(ssim_flair_train[0:1000])\n",
    "\n",
    "plt.legend()\n",
    "plt.savefig('image_2.0.png', dpi=200)\n",
    "\n",
    "plt.close()\n",
    "\n",
    "\n"
   ]
  },
  {
   "cell_type": "code",
   "execution_count": 1,
   "metadata": {},
   "outputs": [],
   "source": [
    "from matplotlib.pyplot import imread\n",
    "from pytorch_msssim import ssim, ms_ssim, SSIM, MS_SSIM\n",
    "\n",
    "img1 = imread(r'C:\\Users\\ishan\\Desktop\\Image Fusion\\T1ce_val_images\\count_115.png')\n",
    "img2 = imread(r'C:\\Users\\ishan\\Desktop\\Image Fusion\\Flair_val_images\\count_115.png')\n",
    "\n",
    "fused = imread(r'C:\\Users\\ishan\\Desktop\\Image Fusion\\Fusion_R1\\encode-decode\\inference_p2\\0.49\\fused_image\\fused_image_115.png')\n"
   ]
  },
  {
   "cell_type": "code",
   "execution_count": 3,
   "metadata": {},
   "outputs": [
    {
     "ename": "TypeError",
     "evalue": "'dim' is an invalid keyword argument for squeeze()",
     "output_type": "error",
     "traceback": [
      "\u001b[1;31m---------------------------------------------------------------------------\u001b[0m",
      "\u001b[1;31mTypeError\u001b[0m                                 Traceback (most recent call last)",
      "\u001b[1;32m~\\AppData\\Local\\Temp/ipykernel_17644/556480004.py\u001b[0m in \u001b[0;36m<module>\u001b[1;34m\u001b[0m\n\u001b[1;32m----> 1\u001b[1;33m \u001b[0mssim_val\u001b[0m \u001b[1;33m=\u001b[0m \u001b[0mssim\u001b[0m\u001b[1;33m(\u001b[0m \u001b[0mimg1\u001b[0m\u001b[1;33m,\u001b[0m \u001b[0mimg2\u001b[0m\u001b[1;33m,\u001b[0m \u001b[0mdata_range\u001b[0m\u001b[1;33m=\u001b[0m\u001b[1;36m255\u001b[0m\u001b[1;33m,\u001b[0m \u001b[0msize_average\u001b[0m\u001b[1;33m=\u001b[0m\u001b[1;32mTrue\u001b[0m\u001b[1;33m)\u001b[0m\u001b[1;33m\u001b[0m\u001b[1;33m\u001b[0m\u001b[0m\n\u001b[0m",
      "\u001b[1;32mc:\\Users\\ishan\\AppData\\Local\\Programs\\Python\\Python38\\lib\\site-packages\\pytorch_msssim\\ssim.py\u001b[0m in \u001b[0;36mssim\u001b[1;34m(X, Y, data_range, size_average, win_size, win_sigma, win, K, nonnegative_ssim)\u001b[0m\n\u001b[0;32m    127\u001b[0m \u001b[1;33m\u001b[0m\u001b[0m\n\u001b[0;32m    128\u001b[0m     \u001b[1;32mfor\u001b[0m \u001b[0md\u001b[0m \u001b[1;32min\u001b[0m \u001b[0mrange\u001b[0m\u001b[1;33m(\u001b[0m\u001b[0mlen\u001b[0m\u001b[1;33m(\u001b[0m\u001b[0mX\u001b[0m\u001b[1;33m.\u001b[0m\u001b[0mshape\u001b[0m\u001b[1;33m)\u001b[0m \u001b[1;33m-\u001b[0m \u001b[1;36m1\u001b[0m\u001b[1;33m,\u001b[0m \u001b[1;36m1\u001b[0m\u001b[1;33m,\u001b[0m \u001b[1;33m-\u001b[0m\u001b[1;36m1\u001b[0m\u001b[1;33m)\u001b[0m\u001b[1;33m:\u001b[0m\u001b[1;33m\u001b[0m\u001b[1;33m\u001b[0m\u001b[0m\n\u001b[1;32m--> 129\u001b[1;33m         \u001b[0mX\u001b[0m \u001b[1;33m=\u001b[0m \u001b[0mX\u001b[0m\u001b[1;33m.\u001b[0m\u001b[0msqueeze\u001b[0m\u001b[1;33m(\u001b[0m\u001b[0mdim\u001b[0m\u001b[1;33m=\u001b[0m\u001b[0md\u001b[0m\u001b[1;33m)\u001b[0m\u001b[1;33m\u001b[0m\u001b[1;33m\u001b[0m\u001b[0m\n\u001b[0m\u001b[0;32m    130\u001b[0m         \u001b[0mY\u001b[0m \u001b[1;33m=\u001b[0m \u001b[0mY\u001b[0m\u001b[1;33m.\u001b[0m\u001b[0msqueeze\u001b[0m\u001b[1;33m(\u001b[0m\u001b[0mdim\u001b[0m\u001b[1;33m=\u001b[0m\u001b[0md\u001b[0m\u001b[1;33m)\u001b[0m\u001b[1;33m\u001b[0m\u001b[1;33m\u001b[0m\u001b[0m\n\u001b[0;32m    131\u001b[0m \u001b[1;33m\u001b[0m\u001b[0m\n",
      "\u001b[1;31mTypeError\u001b[0m: 'dim' is an invalid keyword argument for squeeze()"
     ]
    }
   ],
   "source": [
    "ssim_val = ssim( img1, img2, data_range=255, size_average=True)"
   ]
  }
 ],
 "metadata": {
  "kernelspec": {
   "display_name": "Python 3.8.6 64-bit",
   "language": "python",
   "name": "python3"
  },
  "language_info": {
   "codemirror_mode": {
    "name": "ipython",
    "version": 3
   },
   "file_extension": ".py",
   "mimetype": "text/x-python",
   "name": "python",
   "nbconvert_exporter": "python",
   "pygments_lexer": "ipython3",
   "version": "3.8.6"
  },
  "orig_nbformat": 4,
  "vscode": {
   "interpreter": {
    "hash": "2305bcac1fe6e87e4fddffb71fb75c78508e0ebae27a562f1b87979be3d4f77c"
   }
  }
 },
 "nbformat": 4,
 "nbformat_minor": 2
}
